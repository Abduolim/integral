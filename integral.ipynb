{
 "cells": [
  {
   "cell_type": "code",
   "execution_count": 8,
   "id": "6767daa3",
   "metadata": {},
   "outputs": [
    {
     "name": "stdout",
     "output_type": "stream",
     "text": [
      "The numerical result is -0.023834 (+-3.83329e-09)\n"
     ]
    }
   ],
   "source": [
    "import math\n",
    "from math import cos, sin, log\n",
    "from scipy.integrate import quad\n",
    "\n",
    "def f(x):\n",
    "    return sin(x)**2/(log((sin(x)**2)*(cos(2*x)**2)))\n",
    "\n",
    "\n",
    "res, err = quad(f, pi/6, pi/4)\n",
    "\n",
    "print(\"The numerical result is {:f} (+-{:g})\"\n",
    "    .format(res, err))\n"
   ]
  },
  {
   "cell_type": "code",
   "execution_count": null,
   "id": "fc72be4a",
   "metadata": {},
   "outputs": [],
   "source": []
  }
 ],
 "metadata": {
  "kernelspec": {
   "display_name": "Python 3 (ipykernel)",
   "language": "python",
   "name": "python3"
  },
  "language_info": {
   "codemirror_mode": {
    "name": "ipython",
    "version": 3
   },
   "file_extension": ".py",
   "mimetype": "text/x-python",
   "name": "python",
   "nbconvert_exporter": "python",
   "pygments_lexer": "ipython3",
   "version": "3.9.0"
  }
 },
 "nbformat": 4,
 "nbformat_minor": 5
}
